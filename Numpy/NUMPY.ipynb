{
 "cells": [
  {
   "cell_type": "code",
   "execution_count": 5,
   "id": "1c287f16",
   "metadata": {},
   "outputs": [],
   "source": [
    "import numpy as np"
   ]
  },
  {
   "cell_type": "code",
   "execution_count": 2,
   "id": "87adc2f5",
   "metadata": {},
   "outputs": [
    {
     "data": {
      "text/plain": [
       "array([1, 2, 3, 4])"
      ]
     },
     "execution_count": 2,
     "metadata": {},
     "output_type": "execute_result"
    }
   ],
   "source": [
    "np.array([1,2,3,4])"
   ]
  },
  {
   "cell_type": "code",
   "execution_count": 3,
   "id": "a4770b8e",
   "metadata": {},
   "outputs": [],
   "source": [
    "a1=np.array([1,2,3])"
   ]
  },
  {
   "cell_type": "code",
   "execution_count": 4,
   "id": "e8022a8c",
   "metadata": {},
   "outputs": [
    {
     "data": {
      "text/plain": [
       "numpy.ndarray"
      ]
     },
     "execution_count": 4,
     "metadata": {},
     "output_type": "execute_result"
    }
   ],
   "source": [
    "type(a1)"
   ]
  },
  {
   "cell_type": "code",
   "execution_count": 5,
   "id": "24f0fa9c",
   "metadata": {},
   "outputs": [
    {
     "data": {
      "text/plain": [
       "dtype('int32')"
      ]
     },
     "execution_count": 5,
     "metadata": {},
     "output_type": "execute_result"
    }
   ],
   "source": [
    "a1.dtype"
   ]
  },
  {
   "cell_type": "code",
   "execution_count": 6,
   "id": "c4a67364",
   "metadata": {},
   "outputs": [],
   "source": [
    "l1=[1,2,3,4,5,False,\"ekansh\"]"
   ]
  },
  {
   "cell_type": "code",
   "execution_count": 7,
   "id": "a2ba2058",
   "metadata": {},
   "outputs": [],
   "source": [
    "a1=np.array([1,2,3],dtype='int64')"
   ]
  },
  {
   "cell_type": "code",
   "execution_count": 8,
   "id": "d6cbd10d",
   "metadata": {},
   "outputs": [
    {
     "data": {
      "text/plain": [
       "dtype('int64')"
      ]
     },
     "execution_count": 8,
     "metadata": {},
     "output_type": "execute_result"
    }
   ],
   "source": [
    "a1.dtype"
   ]
  },
  {
   "cell_type": "code",
   "execution_count": 9,
   "id": "db3ca835",
   "metadata": {},
   "outputs": [],
   "source": [
    "a2=np.array(l1)"
   ]
  },
  {
   "cell_type": "code",
   "execution_count": 10,
   "id": "74e33d2b",
   "metadata": {},
   "outputs": [
    {
     "data": {
      "text/plain": [
       "array(['1', '2', '3', '4', '5', 'False', 'ekansh'], dtype='<U11')"
      ]
     },
     "execution_count": 10,
     "metadata": {},
     "output_type": "execute_result"
    }
   ],
   "source": [
    "a2"
   ]
  },
  {
   "cell_type": "code",
   "execution_count": 11,
   "id": "d91f7af9",
   "metadata": {},
   "outputs": [
    {
     "data": {
      "text/plain": [
       "1"
      ]
     },
     "execution_count": 11,
     "metadata": {},
     "output_type": "execute_result"
    }
   ],
   "source": [
    "a2.ndim"
   ]
  },
  {
   "cell_type": "code",
   "execution_count": 12,
   "id": "0abfbb1d",
   "metadata": {},
   "outputs": [
    {
     "data": {
      "text/plain": [
       "(7,)"
      ]
     },
     "execution_count": 12,
     "metadata": {},
     "output_type": "execute_result"
    }
   ],
   "source": [
    "a2.shape"
   ]
  },
  {
   "cell_type": "code",
   "execution_count": 8,
   "id": "56eb720b",
   "metadata": {},
   "outputs": [],
   "source": [
    "a2=np.ones((3,3),dtype='int')"
   ]
  },
  {
   "cell_type": "code",
   "execution_count": 9,
   "id": "54dad20c",
   "metadata": {},
   "outputs": [
    {
     "data": {
      "text/plain": [
       "array([[1, 1, 1],\n",
       "       [1, 1, 1],\n",
       "       [1, 1, 1]])"
      ]
     },
     "execution_count": 9,
     "metadata": {},
     "output_type": "execute_result"
    }
   ],
   "source": [
    "a2"
   ]
  },
  {
   "cell_type": "code",
   "execution_count": 19,
   "id": "96d2a9ef",
   "metadata": {},
   "outputs": [],
   "source": [
    "a3=np.zeros((3,4))"
   ]
  },
  {
   "cell_type": "code",
   "execution_count": 20,
   "id": "a4176270",
   "metadata": {},
   "outputs": [
    {
     "data": {
      "text/plain": [
       "array([[0., 0., 0., 0.],\n",
       "       [0., 0., 0., 0.],\n",
       "       [0., 0., 0., 0.]])"
      ]
     },
     "execution_count": 20,
     "metadata": {},
     "output_type": "execute_result"
    }
   ],
   "source": [
    "a3"
   ]
  },
  {
   "cell_type": "code",
   "execution_count": 21,
   "id": "4deb325b",
   "metadata": {},
   "outputs": [
    {
     "data": {
      "text/plain": [
       "12"
      ]
     },
     "execution_count": 21,
     "metadata": {},
     "output_type": "execute_result"
    }
   ],
   "source": [
    "a3.size"
   ]
  },
  {
   "cell_type": "code",
   "execution_count": 22,
   "id": "61b624e5",
   "metadata": {},
   "outputs": [
    {
     "data": {
      "text/plain": [
       "2"
      ]
     },
     "execution_count": 22,
     "metadata": {},
     "output_type": "execute_result"
    }
   ],
   "source": [
    "a3.ndim"
   ]
  },
  {
   "cell_type": "code",
   "execution_count": 38,
   "id": "8f6110be",
   "metadata": {},
   "outputs": [
    {
     "data": {
      "text/plain": [
       "(3, 4)"
      ]
     },
     "execution_count": 38,
     "metadata": {},
     "output_type": "execute_result"
    }
   ],
   "source": [
    "a3.shape"
   ]
  },
  {
   "cell_type": "code",
   "execution_count": 30,
   "id": "3597d705",
   "metadata": {},
   "outputs": [],
   "source": [
    "a5=np.full((2,3,4),9)"
   ]
  },
  {
   "cell_type": "code",
   "execution_count": 31,
   "id": "1bd3506f",
   "metadata": {},
   "outputs": [
    {
     "data": {
      "text/plain": [
       "dtype('int32')"
      ]
     },
     "execution_count": 31,
     "metadata": {},
     "output_type": "execute_result"
    }
   ],
   "source": [
    "a5.dtype"
   ]
  },
  {
   "cell_type": "code",
   "execution_count": 32,
   "id": "1eea1450",
   "metadata": {},
   "outputs": [
    {
     "data": {
      "text/plain": [
       "array([[[9, 9, 9, 9],\n",
       "        [9, 9, 9, 9],\n",
       "        [9, 9, 9, 9]],\n",
       "\n",
       "       [[9, 9, 9, 9],\n",
       "        [9, 9, 9, 9],\n",
       "        [9, 9, 9, 9]]])"
      ]
     },
     "execution_count": 32,
     "metadata": {},
     "output_type": "execute_result"
    }
   ],
   "source": [
    "a5"
   ]
  },
  {
   "cell_type": "code",
   "execution_count": 56,
   "id": "66a69b7e",
   "metadata": {},
   "outputs": [],
   "source": [
    "a6 = np.random.random((4,5))"
   ]
  },
  {
   "cell_type": "code",
   "execution_count": 57,
   "id": "383626a0",
   "metadata": {},
   "outputs": [
    {
     "data": {
      "text/plain": [
       "array([[4.68808893e-01, 4.94392271e-01, 4.42308411e-01, 4.17844714e-01,\n",
       "        1.47451492e-01],\n",
       "       [6.99179264e-01, 6.95422635e-01, 5.77276636e-01, 2.53322539e-01,\n",
       "        5.31246008e-01],\n",
       "       [3.51466982e-01, 9.31831530e-02, 4.26067779e-01, 8.53613243e-01,\n",
       "        8.72440512e-02],\n",
       "       [1.50252187e-01, 7.26350925e-04, 2.46626739e-01, 3.63062257e-01,\n",
       "        9.58992709e-01]])"
      ]
     },
     "execution_count": 57,
     "metadata": {},
     "output_type": "execute_result"
    }
   ],
   "source": [
    "a6"
   ]
  },
  {
   "cell_type": "code",
   "execution_count": 23,
   "id": "ace6ecb7",
   "metadata": {},
   "outputs": [],
   "source": [
    "?np.random.binomial"
   ]
  },
  {
   "cell_type": "code",
   "execution_count": 65,
   "id": "38cbdf22",
   "metadata": {},
   "outputs": [
    {
     "data": {
      "text/plain": [
       "5"
      ]
     },
     "execution_count": 65,
     "metadata": {},
     "output_type": "execute_result"
    }
   ],
   "source": [
    "a7"
   ]
  },
  {
   "cell_type": "code",
   "execution_count": 69,
   "id": "2125b397",
   "metadata": {},
   "outputs": [
    {
     "data": {
      "text/plain": [
       "array([16.59120508, 14.36803097, 18.19143967, ..., 17.63584544,\n",
       "       10.78197799, 10.93416401])"
      ]
     },
     "execution_count": 69,
     "metadata": {},
     "output_type": "execute_result"
    }
   ],
   "source": [
    "np.random.normal(15,2,(1200))"
   ]
  },
  {
   "cell_type": "code",
   "execution_count": 2,
   "id": "a6139fab",
   "metadata": {},
   "outputs": [],
   "source": [
    "a8=np.arange(0,100,25)"
   ]
  },
  {
   "cell_type": "code",
   "execution_count": 3,
   "id": "7d7a8a9a",
   "metadata": {},
   "outputs": [
    {
     "data": {
      "text/plain": [
       "array([ 0, 25, 50, 75])"
      ]
     },
     "execution_count": 3,
     "metadata": {},
     "output_type": "execute_result"
    }
   ],
   "source": [
    "a8"
   ]
  },
  {
   "cell_type": "code",
   "execution_count": 81,
   "id": "266b4484",
   "metadata": {},
   "outputs": [],
   "source": [
    "a9=np.linspace(5,10,5)"
   ]
  },
  {
   "cell_type": "code",
   "execution_count": 82,
   "id": "bb8aa8b5",
   "metadata": {},
   "outputs": [
    {
     "data": {
      "text/plain": [
       "array([ 5.  ,  6.25,  7.5 ,  8.75, 10.  ])"
      ]
     },
     "execution_count": 82,
     "metadata": {},
     "output_type": "execute_result"
    }
   ],
   "source": [
    "a9"
   ]
  },
  {
   "cell_type": "code",
   "execution_count": 43,
   "id": "aa2fe4f3",
   "metadata": {},
   "outputs": [],
   "source": [
    "a8=np.arange(24)"
   ]
  },
  {
   "cell_type": "code",
   "execution_count": 44,
   "id": "c55bf602",
   "metadata": {},
   "outputs": [
    {
     "data": {
      "text/plain": [
       "array([ 0,  1,  2,  3,  4,  5,  6,  7,  8,  9, 10, 11, 12, 13, 14, 15, 16,\n",
       "       17, 18, 19, 20, 21, 22, 23])"
      ]
     },
     "execution_count": 44,
     "metadata": {},
     "output_type": "execute_result"
    }
   ],
   "source": [
    "a8"
   ]
  },
  {
   "cell_type": "code",
   "execution_count": 45,
   "id": "f506a6d2",
   "metadata": {},
   "outputs": [
    {
     "data": {
      "text/plain": [
       "array([[ 0,  1,  2,  3],\n",
       "       [ 4,  5,  6,  7],\n",
       "       [ 8,  9, 10, 11],\n",
       "       [12, 13, 14, 15],\n",
       "       [16, 17, 18, 19],\n",
       "       [20, 21, 22, 23]])"
      ]
     },
     "execution_count": 45,
     "metadata": {},
     "output_type": "execute_result"
    }
   ],
   "source": [
    "a8.reshape((6,4))\n"
   ]
  },
  {
   "cell_type": "code",
   "execution_count": 46,
   "id": "f3db572f",
   "metadata": {},
   "outputs": [
    {
     "data": {
      "text/plain": [
       "0"
      ]
     },
     "execution_count": 46,
     "metadata": {},
     "output_type": "execute_result"
    }
   ],
   "source": [
    "a8[0]"
   ]
  },
  {
   "cell_type": "code",
   "execution_count": 91,
   "id": "e93e7858",
   "metadata": {},
   "outputs": [],
   "source": [
    "a1=np.array([1,2,3,4,5])"
   ]
  },
  {
   "cell_type": "code",
   "execution_count": 92,
   "id": "99b5a50b",
   "metadata": {},
   "outputs": [
    {
     "data": {
      "text/plain": [
       "array([1, 2, 3, 4, 5])"
      ]
     },
     "execution_count": 92,
     "metadata": {},
     "output_type": "execute_result"
    }
   ],
   "source": [
    "a1"
   ]
  },
  {
   "cell_type": "code",
   "execution_count": 97,
   "id": "3b602257",
   "metadata": {},
   "outputs": [
    {
     "data": {
      "text/plain": [
       "276"
      ]
     },
     "execution_count": 97,
     "metadata": {},
     "output_type": "execute_result"
    }
   ],
   "source": [
    "np.sum(a8)"
   ]
  },
  {
   "cell_type": "code",
   "execution_count": 47,
   "id": "95e28cda",
   "metadata": {},
   "outputs": [],
   "source": [
    "a8=a8.reshape((2,3,4))"
   ]
  },
  {
   "cell_type": "code",
   "execution_count": 48,
   "id": "2090944c",
   "metadata": {},
   "outputs": [
    {
     "data": {
      "text/plain": [
       "array([[[ 0,  1,  2,  3],\n",
       "        [ 4,  5,  6,  7],\n",
       "        [ 8,  9, 10, 11]],\n",
       "\n",
       "       [[12, 13, 14, 15],\n",
       "        [16, 17, 18, 19],\n",
       "        [20, 21, 22, 23]]])"
      ]
     },
     "execution_count": 48,
     "metadata": {},
     "output_type": "execute_result"
    }
   ],
   "source": [
    "a8"
   ]
  },
  {
   "cell_type": "code",
   "execution_count": null,
   "id": "e3b4ddea",
   "metadata": {},
   "outputs": [],
   "source": []
  },
  {
   "cell_type": "code",
   "execution_count": 116,
   "id": "ea283be0",
   "metadata": {},
   "outputs": [
    {
     "data": {
      "text/plain": [
       "array([[ 6, 22, 38],\n",
       "       [54, 70, 86]])"
      ]
     },
     "execution_count": 116,
     "metadata": {},
     "output_type": "execute_result"
    }
   ],
   "source": [
    "np.sum(a8,axis=2)"
   ]
  },
  {
   "cell_type": "code",
   "execution_count": 128,
   "id": "57d5bf83",
   "metadata": {},
   "outputs": [
    {
     "data": {
      "text/plain": [
       "array([[[ 0,  1,  2,  3],\n",
       "        [ 4,  5,  6,  7],\n",
       "        [ 8,  9, 10, 11]],\n",
       "\n",
       "       [[12, 13, 14, 15],\n",
       "        [16, 17, 18, 19],\n",
       "        [20, 21, 22, 23]]])"
      ]
     },
     "execution_count": 128,
     "metadata": {},
     "output_type": "execute_result"
    }
   ],
   "source": [
    "a8"
   ]
  },
  {
   "cell_type": "code",
   "execution_count": 125,
   "id": "24eb0373",
   "metadata": {},
   "outputs": [
    {
     "data": {
      "text/plain": [
       "array([[12, 14, 16, 18],\n",
       "       [20, 22, 24, 26],\n",
       "       [28, 30, 32, 34]])"
      ]
     },
     "execution_count": 125,
     "metadata": {},
     "output_type": "execute_result"
    }
   ],
   "source": [
    "np.sum(a8,axis=0)"
   ]
  },
  {
   "cell_type": "code",
   "execution_count": 126,
   "id": "f71821d1",
   "metadata": {},
   "outputs": [
    {
     "data": {
      "text/plain": [
       "array([60, 66, 72, 78])"
      ]
     },
     "execution_count": 126,
     "metadata": {},
     "output_type": "execute_result"
    }
   ],
   "source": [
    "np.sum(a8,axis=(0,1))"
   ]
  },
  {
   "cell_type": "code",
   "execution_count": 127,
   "id": "01da6ebf",
   "metadata": {},
   "outputs": [
    {
     "data": {
      "text/plain": [
       "array([ 60,  92, 124])"
      ]
     },
     "execution_count": 127,
     "metadata": {},
     "output_type": "execute_result"
    }
   ],
   "source": [
    "np.sum(a8,axis=(0,2))"
   ]
  },
  {
   "cell_type": "code",
   "execution_count": 155,
   "id": "aa7f7857",
   "metadata": {},
   "outputs": [
    {
     "data": {
      "text/plain": [
       "array([[ 6, 22, 38],\n",
       "       [54, 70, 86]])"
      ]
     },
     "execution_count": 155,
     "metadata": {},
     "output_type": "execute_result"
    }
   ],
   "source": [
    "np.sum(a8,axis=(2))"
   ]
  },
  {
   "cell_type": "code",
   "execution_count": 132,
   "id": "95807159",
   "metadata": {},
   "outputs": [
    {
     "data": {
      "text/plain": [
       "array([1, 2, 3, 4, 5])"
      ]
     },
     "execution_count": 132,
     "metadata": {},
     "output_type": "execute_result"
    }
   ],
   "source": [
    "a1"
   ]
  },
  {
   "cell_type": "code",
   "execution_count": 135,
   "id": "d57f47b4",
   "metadata": {},
   "outputs": [
    {
     "data": {
      "text/plain": [
       "4"
      ]
     },
     "execution_count": 135,
     "metadata": {},
     "output_type": "execute_result"
    }
   ],
   "source": [
    "np.argmax(a1)"
   ]
  },
  {
   "cell_type": "code",
   "execution_count": 156,
   "id": "065af6bf",
   "metadata": {},
   "outputs": [
    {
     "data": {
      "text/plain": [
       "array([[[ 0,  1,  2,  3],\n",
       "        [ 4,  5,  6,  7],\n",
       "        [ 8,  9, 10, 11]],\n",
       "\n",
       "       [[12, 13, 14, 15],\n",
       "        [16, 17, 18, 19],\n",
       "        [20, 21, 22, 23]]])"
      ]
     },
     "execution_count": 156,
     "metadata": {},
     "output_type": "execute_result"
    }
   ],
   "source": [
    "a8"
   ]
  },
  {
   "cell_type": "code",
   "execution_count": 157,
   "id": "cbab4e86",
   "metadata": {},
   "outputs": [
    {
     "data": {
      "text/plain": [
       "5"
      ]
     },
     "execution_count": 157,
     "metadata": {},
     "output_type": "execute_result"
    }
   ],
   "source": [
    "a7"
   ]
  },
  {
   "cell_type": "code",
   "execution_count": 160,
   "id": "a65a6eb1",
   "metadata": {},
   "outputs": [
    {
     "data": {
      "text/plain": [
       "array([[[ 0,  1,  2,  3],\n",
       "        [ 4,  5,  6,  7],\n",
       "        [ 8,  9, 10, 11]],\n",
       "\n",
       "       [[12, 13, 14, 15],\n",
       "        [16, 17, 18, 19],\n",
       "        [20, 21, 22, 23]]])"
      ]
     },
     "execution_count": 160,
     "metadata": {},
     "output_type": "execute_result"
    }
   ],
   "source": [
    "a8"
   ]
  },
  {
   "cell_type": "code",
   "execution_count": 163,
   "id": "b4526cdd",
   "metadata": {},
   "outputs": [],
   "source": [
    "a8=a8.reshape(6,4)"
   ]
  },
  {
   "cell_type": "code",
   "execution_count": 164,
   "id": "46563979",
   "metadata": {},
   "outputs": [
    {
     "data": {
      "text/plain": [
       "array([[ 9, 10],\n",
       "       [13, 14],\n",
       "       [17, 18]])"
      ]
     },
     "execution_count": 164,
     "metadata": {},
     "output_type": "execute_result"
    }
   ],
   "source": [
    "a8[2:5,1:3]"
   ]
  },
  {
   "cell_type": "code",
   "execution_count": 25,
   "id": "f4306fa0",
   "metadata": {},
   "outputs": [],
   "source": [
    "a10=a8.reshape(2,3,4)"
   ]
  },
  {
   "cell_type": "code",
   "execution_count": 26,
   "id": "8a7c5436",
   "metadata": {},
   "outputs": [
    {
     "data": {
      "text/plain": [
       "array([[[ 0,  1,  2,  3],\n",
       "        [ 4,  5,  6,  7],\n",
       "        [ 8,  9, 10, 11]],\n",
       "\n",
       "       [[12, 13, 14, 15],\n",
       "        [16, 17, 18, 19],\n",
       "        [20, 21, 22, 23]]])"
      ]
     },
     "execution_count": 26,
     "metadata": {},
     "output_type": "execute_result"
    }
   ],
   "source": [
    "a10"
   ]
  },
  {
   "cell_type": "code",
   "execution_count": 28,
   "id": "36ac9ec6",
   "metadata": {},
   "outputs": [
    {
     "data": {
      "text/plain": [
       "9"
      ]
     },
     "execution_count": 28,
     "metadata": {},
     "output_type": "execute_result"
    }
   ],
   "source": [
    "a10[0][2][1]"
   ]
  },
  {
   "cell_type": "code",
   "execution_count": 169,
   "id": "c7c461d4",
   "metadata": {},
   "outputs": [
    {
     "data": {
      "text/plain": [
       "array([[ 9, 10],\n",
       "       [21, 22]])"
      ]
     },
     "execution_count": 169,
     "metadata": {},
     "output_type": "execute_result"
    }
   ],
   "source": [
    "a10[:,2,1:3]"
   ]
  },
  {
   "cell_type": "code",
   "execution_count": 172,
   "id": "0b8294e7",
   "metadata": {},
   "outputs": [
    {
     "data": {
      "text/plain": [
       "array([[ 0,  1,  2,  3],\n",
       "       [ 4,  5,  6,  7],\n",
       "       [ 8,  9, 10, 11],\n",
       "       [12, 13, 14, 15],\n",
       "       [16, 17, 18, 19],\n",
       "       [20, 21, 22, 23]])"
      ]
     },
     "execution_count": 172,
     "metadata": {},
     "output_type": "execute_result"
    }
   ],
   "source": [
    "a8"
   ]
  },
  {
   "cell_type": "code",
   "execution_count": 174,
   "id": "cf9146a7",
   "metadata": {},
   "outputs": [
    {
     "data": {
      "text/plain": [
       "array([60, 66, 72, 78])"
      ]
     },
     "execution_count": 174,
     "metadata": {},
     "output_type": "execute_result"
    }
   ],
   "source": [
    "np.sum(a8,axis=0)"
   ]
  },
  {
   "cell_type": "code",
   "execution_count": 185,
   "id": "805c1b79",
   "metadata": {},
   "outputs": [],
   "source": [
    "a20=np.random.random((2,3,4))\n",
    "a21=np.random.random((2,4,4))"
   ]
  },
  {
   "cell_type": "code",
   "execution_count": 186,
   "id": "a5835677",
   "metadata": {},
   "outputs": [
    {
     "data": {
      "text/plain": [
       "array([[[0.16225989, 0.87368352, 0.75094591, 0.89809403],\n",
       "        [0.24697919, 0.66574167, 0.98676747, 0.82753002],\n",
       "        [0.60387129, 0.17000638, 0.9323049 , 0.69725093]],\n",
       "\n",
       "       [[0.13453699, 0.91929123, 0.2802649 , 0.45504144],\n",
       "        [0.75984143, 0.90191038, 0.94226334, 0.91520841],\n",
       "        [0.51522451, 0.69069331, 0.22570963, 0.58465011]]])"
      ]
     },
     "execution_count": 186,
     "metadata": {},
     "output_type": "execute_result"
    }
   ],
   "source": [
    "a20"
   ]
  },
  {
   "cell_type": "code",
   "execution_count": 187,
   "id": "b12a297e",
   "metadata": {},
   "outputs": [
    {
     "data": {
      "text/plain": [
       "array([[[0.50027189, 0.83923422, 0.91802816, 0.35806451],\n",
       "        [0.51621992, 0.19543944, 0.22041164, 0.09212307],\n",
       "        [0.55366902, 0.35173535, 0.66846319, 0.58661273],\n",
       "        [0.30043168, 0.88245166, 0.45944646, 0.19301182]],\n",
       "\n",
       "       [[0.90250061, 0.67278114, 0.6460971 , 0.9311054 ],\n",
       "        [0.61985905, 0.49968389, 0.64830425, 0.29728054],\n",
       "        [0.29068204, 0.7585098 , 0.67038665, 0.29382464],\n",
       "        [0.18461149, 0.74599983, 0.70713003, 0.8377074 ]]])"
      ]
     },
     "execution_count": 187,
     "metadata": {},
     "output_type": "execute_result"
    }
   ],
   "source": [
    "a21"
   ]
  },
  {
   "cell_type": "code",
   "execution_count": 189,
   "id": "7b2982e7",
   "metadata": {},
   "outputs": [
    {
     "data": {
      "text/plain": [
       "array([[[0.16225989, 0.87368352, 0.75094591, 0.89809403],\n",
       "        [0.24697919, 0.66574167, 0.98676747, 0.82753002],\n",
       "        [0.60387129, 0.17000638, 0.9323049 , 0.69725093],\n",
       "        [0.50027189, 0.83923422, 0.91802816, 0.35806451],\n",
       "        [0.51621992, 0.19543944, 0.22041164, 0.09212307],\n",
       "        [0.55366902, 0.35173535, 0.66846319, 0.58661273],\n",
       "        [0.30043168, 0.88245166, 0.45944646, 0.19301182]],\n",
       "\n",
       "       [[0.13453699, 0.91929123, 0.2802649 , 0.45504144],\n",
       "        [0.75984143, 0.90191038, 0.94226334, 0.91520841],\n",
       "        [0.51522451, 0.69069331, 0.22570963, 0.58465011],\n",
       "        [0.90250061, 0.67278114, 0.6460971 , 0.9311054 ],\n",
       "        [0.61985905, 0.49968389, 0.64830425, 0.29728054],\n",
       "        [0.29068204, 0.7585098 , 0.67038665, 0.29382464],\n",
       "        [0.18461149, 0.74599983, 0.70713003, 0.8377074 ]]])"
      ]
     },
     "execution_count": 189,
     "metadata": {},
     "output_type": "execute_result"
    }
   ],
   "source": [
    "np.concatenate([a20,a21],axis=1)"
   ]
  },
  {
   "cell_type": "code",
   "execution_count": 192,
   "id": "5933245c",
   "metadata": {},
   "outputs": [
    {
     "data": {
      "text/plain": [
       "array([[[0.16225989, 0.87368352, 0.75094591, 0.89809403],\n",
       "        [0.24697919, 0.66574167, 0.98676747, 0.82753002],\n",
       "        [0.60387129, 0.17000638, 0.9323049 , 0.69725093],\n",
       "        [0.50027189, 0.83923422, 0.91802816, 0.35806451],\n",
       "        [0.51621992, 0.19543944, 0.22041164, 0.09212307],\n",
       "        [0.55366902, 0.35173535, 0.66846319, 0.58661273],\n",
       "        [0.30043168, 0.88245166, 0.45944646, 0.19301182]],\n",
       "\n",
       "       [[0.13453699, 0.91929123, 0.2802649 , 0.45504144],\n",
       "        [0.75984143, 0.90191038, 0.94226334, 0.91520841],\n",
       "        [0.51522451, 0.69069331, 0.22570963, 0.58465011],\n",
       "        [0.90250061, 0.67278114, 0.6460971 , 0.9311054 ],\n",
       "        [0.61985905, 0.49968389, 0.64830425, 0.29728054],\n",
       "        [0.29068204, 0.7585098 , 0.67038665, 0.29382464],\n",
       "        [0.18461149, 0.74599983, 0.70713003, 0.8377074 ]]])"
      ]
     },
     "execution_count": 192,
     "metadata": {},
     "output_type": "execute_result"
    }
   ],
   "source": [
    "np.hstack([a20,a21])"
   ]
  },
  {
   "cell_type": "code",
   "execution_count": 72,
   "id": "7f70a925",
   "metadata": {},
   "outputs": [
    {
     "data": {
      "text/plain": [
       "3180102"
      ]
     },
     "execution_count": 72,
     "metadata": {},
     "output_type": "execute_result"
    }
   ],
   "source": [
    "a1=np.arange(8207845)\n",
    "a2=[None]*8207845\n",
    "np.random.shuffle(a1)\n",
    "for i in range(8207845):\n",
    "    a2[i]=a1[i]\n",
    "\n",
    "a2.index(1)\n"
   ]
  },
  {
   "cell_type": "code",
   "execution_count": 16,
   "id": "52cf4b27",
   "metadata": {},
   "outputs": [
    {
     "data": {
      "text/plain": [
       "1"
      ]
     },
     "execution_count": 16,
     "metadata": {},
     "output_type": "execute_result"
    }
   ],
   "source": [
    "li=[1]\n",
    "a=np.array(li)\n",
    "a.ndim"
   ]
  },
  {
   "cell_type": "code",
   "execution_count": 80,
   "id": "739a3ef3",
   "metadata": {},
   "outputs": [
    {
     "data": {
      "text/plain": [
       "array([[1, 0, 0],\n",
       "       [0, 1, 0],\n",
       "       [0, 0, 1]])"
      ]
     },
     "execution_count": 80,
     "metadata": {},
     "output_type": "execute_result"
    }
   ],
   "source": [
    "a222=np.identity(3,dtype='int')\n",
    "a222"
   ]
  },
  {
   "cell_type": "code",
   "execution_count": 88,
   "id": "52df5dbc",
   "metadata": {},
   "outputs": [
    {
     "data": {
      "text/plain": [
       "array([[1, 0, 0],\n",
       "       [0, 1, 0],\n",
       "       [0, 0, 1]])"
      ]
     },
     "execution_count": 88,
     "metadata": {},
     "output_type": "execute_result"
    }
   ],
   "source": [
    "a211=np.eye(3,dtype='int')\n",
    "a211"
   ]
  },
  {
   "cell_type": "code",
   "execution_count": 96,
   "id": "f5473801",
   "metadata": {},
   "outputs": [
    {
     "data": {
      "text/plain": [
       "array([560, 325, 209,   8,  28, 475, 168, 466, 549, 903, 495, 553, 886,\n",
       "       998, 933, 384, 118, 836, 797, 324, 183, 140, 755, 145, 642, 137,\n",
       "       177, 831, 727,  96, 296, 523, 788, 550, 852, 641, 971, 943, 729,\n",
       "        48, 634, 845, 780, 785, 985, 764, 453, 428, 722, 770])"
      ]
     },
     "execution_count": 96,
     "metadata": {},
     "output_type": "execute_result"
    }
   ],
   "source": [
    "x=np.random.randint(0,1001,50)\n",
    "x"
   ]
  },
  {
   "cell_type": "code",
   "execution_count": 111,
   "id": "ecb5652f",
   "metadata": {},
   "outputs": [
    {
     "name": "stdout",
     "output_type": "stream",
     "text": [
      "[770 722 428 453 764 985 785 780 845 634  48 729 943 971 641 852 550 788\n",
      " 523 296  96 727 831 177 137 642 145 755 140 183 324 797 836 118 384 933\n",
      " 998 886 553 495 903 549 466 168 475  28   8 209 325 560]\n"
     ]
    }
   ],
   "source": [
    "print(x[49::-1])"
   ]
  },
  {
   "cell_type": "code",
   "execution_count": 144,
   "id": "f1284b3d",
   "metadata": {},
   "outputs": [],
   "source": [
    "x=np.array([1,2,3,4,5,0])"
   ]
  },
  {
   "cell_type": "code",
   "execution_count": 145,
   "id": "3a826d99",
   "metadata": {},
   "outputs": [
    {
     "data": {
      "text/plain": [
       "array([1, 2, 3, 4, 5, 0])"
      ]
     },
     "execution_count": 145,
     "metadata": {},
     "output_type": "execute_result"
    }
   ],
   "source": [
    "x"
   ]
  },
  {
   "cell_type": "code",
   "execution_count": 118,
   "id": "5515a349",
   "metadata": {},
   "outputs": [
    {
     "data": {
      "text/plain": [
       "array([1, 2, 3, 4, 5, 6])"
      ]
     },
     "execution_count": 118,
     "metadata": {},
     "output_type": "execute_result"
    }
   ],
   "source": [
    "np.append(x,6)"
   ]
  },
  {
   "cell_type": "code",
   "execution_count": 121,
   "id": "8c71116e",
   "metadata": {},
   "outputs": [
    {
     "data": {
      "text/plain": [
       "array([10,  1,  2,  3,  4,  5])"
      ]
     },
     "execution_count": 121,
     "metadata": {},
     "output_type": "execute_result"
    }
   ],
   "source": [
    "np.insert(x,0,10)"
   ]
  },
  {
   "cell_type": "code",
   "execution_count": 125,
   "id": "943bed05",
   "metadata": {},
   "outputs": [
    {
     "data": {
      "text/plain": [
       "array([ 1,  2,  3, 30,  4,  5])"
      ]
     },
     "execution_count": 125,
     "metadata": {},
     "output_type": "execute_result"
    }
   ],
   "source": [
    "np.insert(x,3,30)"
   ]
  },
  {
   "cell_type": "code",
   "execution_count": 138,
   "id": "df906185",
   "metadata": {},
   "outputs": [
    {
     "data": {
      "text/plain": [
       "array([ 1,  2,  3,  4, 50])"
      ]
     },
     "execution_count": 138,
     "metadata": {},
     "output_type": "execute_result"
    }
   ],
   "source": [
    "x[4]=50\n",
    "x"
   ]
  },
  {
   "cell_type": "code",
   "execution_count": 139,
   "id": "67781b35",
   "metadata": {},
   "outputs": [],
   "source": [
    "def search_num(arr,num):\n",
    "    for ele in arr:\n",
    "        if ele==num:\n",
    "            print(\"present\")\n",
    "            return\n",
    "    print(\"not present\")\n",
    "    return\n",
    "    "
   ]
  },
  {
   "cell_type": "code",
   "execution_count": 141,
   "id": "a61d0b93",
   "metadata": {},
   "outputs": [
    {
     "name": "stdout",
     "output_type": "stream",
     "text": [
      "not present\n"
     ]
    }
   ],
   "source": [
    "search_num(x,30)"
   ]
  },
  {
   "cell_type": "code",
   "execution_count": 147,
   "id": "39dc29ae",
   "metadata": {},
   "outputs": [],
   "source": [
    "x.sort()"
   ]
  },
  {
   "cell_type": "code",
   "execution_count": 148,
   "id": "de89790e",
   "metadata": {},
   "outputs": [
    {
     "data": {
      "text/plain": [
       "array([0, 1, 2, 3, 4, 5])"
      ]
     },
     "execution_count": 148,
     "metadata": {},
     "output_type": "execute_result"
    }
   ],
   "source": [
    "x"
   ]
  },
  {
   "cell_type": "code",
   "execution_count": 1,
   "id": "2d96ed5f",
   "metadata": {},
   "outputs": [
    {
     "ename": "IndentationError",
     "evalue": "unexpected indent (3834686391.py, line 3)",
     "output_type": "error",
     "traceback": [
      "\u001b[1;36m  Input \u001b[1;32mIn [1]\u001b[1;36m\u001b[0m\n\u001b[1;33m    a=np.array([9,8,7,1,3,1,2],ndim=3)\u001b[0m\n\u001b[1;37m    ^\u001b[0m\n\u001b[1;31mIndentationError\u001b[0m\u001b[1;31m:\u001b[0m unexpected indent\n"
     ]
    }
   ],
   "source": [
    " import numpy as np\n",
    "\n",
    "  a=np.array([9,8,7,1,3,1,2],ndim=3)\n",
    "\n",
    "  a"
   ]
  },
  {
   "cell_type": "code",
   "execution_count": 6,
   "id": "5504a5ae",
   "metadata": {},
   "outputs": [
    {
     "name": "stdout",
     "output_type": "stream",
     "text": [
      "[9 4 0 1 9 0 1 8 9 0]\n"
     ]
    }
   ],
   "source": [
    "np.random.seed(10)\n",
    "\n",
    "a = np.random.randint(10, size=10)\n",
    "\n",
    "print(a)"
   ]
  },
  {
   "cell_type": "code",
   "execution_count": 7,
   "id": "8228675f",
   "metadata": {},
   "outputs": [
    {
     "name": "stdout",
     "output_type": "stream",
     "text": [
      "[7 5 0 3 8 1 4 6 9 2]\n"
     ]
    }
   ],
   "source": [
    "print(a.argsort().argsort())"
   ]
  }
 ],
 "metadata": {
  "kernelspec": {
   "display_name": "Python 3 (ipykernel)",
   "language": "python",
   "name": "python3"
  },
  "language_info": {
   "codemirror_mode": {
    "name": "ipython",
    "version": 3
   },
   "file_extension": ".py",
   "mimetype": "text/x-python",
   "name": "python",
   "nbconvert_exporter": "python",
   "pygments_lexer": "ipython3",
   "version": "3.9.12"
  }
 },
 "nbformat": 4,
 "nbformat_minor": 5
}
